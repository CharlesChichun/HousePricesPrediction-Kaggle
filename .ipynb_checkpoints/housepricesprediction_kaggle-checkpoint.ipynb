{
 "cells": [
  {
   "cell_type": "code",
   "execution_count": 19,
   "metadata": {
    "_cell_guid": "b1076dfc-b9ad-4769-8c92-a6c4dae69d19",
    "_uuid": "8f2839f25d086af736a60e9eeb907d3b93b6e0e5",
    "execution": {
     "iopub.execute_input": "2022-06-04T07:52:41.455100Z",
     "iopub.status.busy": "2022-06-04T07:52:41.454733Z",
     "iopub.status.idle": "2022-06-04T07:52:41.468175Z",
     "shell.execute_reply": "2022-06-04T07:52:41.467219Z",
     "shell.execute_reply.started": "2022-06-04T07:52:41.455070Z"
    }
   },
   "outputs": [
    {
     "ename": "ModuleNotFoundError",
     "evalue": "No module named 'matplotlib'",
     "output_type": "error",
     "traceback": [
      "\u001b[0;31m---------------------------------------------------------------------------\u001b[0m",
      "\u001b[0;31mModuleNotFoundError\u001b[0m                       Traceback (most recent call last)",
      "Input \u001b[0;32mIn [19]\u001b[0m, in \u001b[0;36m<cell line: 7>\u001b[0;34m()\u001b[0m\n\u001b[1;32m      5\u001b[0m \u001b[38;5;28;01mimport\u001b[39;00m \u001b[38;5;21;01mnumpy\u001b[39;00m \u001b[38;5;28;01mas\u001b[39;00m \u001b[38;5;21;01mnp\u001b[39;00m \u001b[38;5;66;03m# linear algebra\u001b[39;00m\n\u001b[1;32m      6\u001b[0m \u001b[38;5;28;01mimport\u001b[39;00m \u001b[38;5;21;01mpandas\u001b[39;00m \u001b[38;5;28;01mas\u001b[39;00m \u001b[38;5;21;01mpd\u001b[39;00m \u001b[38;5;66;03m# data processing, CSV file I/O (e.g. pd.read_csv)\u001b[39;00m\n\u001b[0;32m----> 7\u001b[0m \u001b[38;5;28;01mimport\u001b[39;00m \u001b[38;5;21;01mmatplotlib\u001b[39;00m\u001b[38;5;21;01m.\u001b[39;00m\u001b[38;5;21;01mpyplot\u001b[39;00m \u001b[38;5;28;01mas\u001b[39;00m \u001b[38;5;21;01mplt\u001b[39;00m\n\u001b[1;32m      8\u001b[0m \u001b[38;5;28;01mimport\u001b[39;00m \u001b[38;5;21;01mseaborn\u001b[39;00m \u001b[38;5;28;01mas\u001b[39;00m \u001b[38;5;21;01msns\u001b[39;00m\n\u001b[1;32m      9\u001b[0m \u001b[38;5;28;01mfrom\u001b[39;00m \u001b[38;5;21;01msklearn\u001b[39;00m\u001b[38;5;21;01m.\u001b[39;00m\u001b[38;5;21;01mmodel_selection\u001b[39;00m \u001b[38;5;28;01mimport\u001b[39;00m train_test_split\n",
      "\u001b[0;31mModuleNotFoundError\u001b[0m: No module named 'matplotlib'"
     ]
    }
   ],
   "source": [
    "# This Python 3 environment comes with many helpful analytics libraries installed\n",
    "# It is defined by the kaggle/python Docker image: https://github.com/kaggle/docker-python\n",
    "# For example, here's several helpful packages to load\n",
    "\n",
    "import numpy as np # linear algebra\n",
    "import pandas as pd # data processing, CSV file I/O (e.g. pd.read_csv)\n",
    "import matplotlib.pyplot as plt\n",
    "import seaborn as sns\n",
    "from sklearn.model_selection import train_test_split\n",
    "from sklearn.preprocessing import LabelEncoder\n",
    "from sklearn import preprocessing\n",
    "%matplotlib inline"
   ]
  },
  {
   "cell_type": "code",
   "execution_count": 20,
   "metadata": {
    "execution": {
     "iopub.execute_input": "2022-06-04T07:52:41.653633Z",
     "iopub.status.busy": "2022-06-04T07:52:41.653223Z",
     "iopub.status.idle": "2022-06-04T07:52:41.693084Z",
     "shell.execute_reply": "2022-06-04T07:52:41.692105Z",
     "shell.execute_reply.started": "2022-06-04T07:52:41.653600Z"
    }
   },
   "outputs": [],
   "source": [
    "df_train = pd.read_csv('./train.csv')\n",
    "df_test = pd.read_csv('.//test.csv')"
   ]
  },
  {
   "cell_type": "code",
   "execution_count": 21,
   "metadata": {
    "execution": {
     "iopub.execute_input": "2022-06-04T07:52:41.783094Z",
     "iopub.status.busy": "2022-06-04T07:52:41.782721Z",
     "iopub.status.idle": "2022-06-04T07:52:41.806142Z",
     "shell.execute_reply": "2022-06-04T07:52:41.805279Z",
     "shell.execute_reply.started": "2022-06-04T07:52:41.783061Z"
    }
   },
   "outputs": [
    {
     "data": {
      "text/html": [
       "<div>\n",
       "<style scoped>\n",
       "    .dataframe tbody tr th:only-of-type {\n",
       "        vertical-align: middle;\n",
       "    }\n",
       "\n",
       "    .dataframe tbody tr th {\n",
       "        vertical-align: top;\n",
       "    }\n",
       "\n",
       "    .dataframe thead th {\n",
       "        text-align: right;\n",
       "    }\n",
       "</style>\n",
       "<table border=\"1\" class=\"dataframe\">\n",
       "  <thead>\n",
       "    <tr style=\"text-align: right;\">\n",
       "      <th></th>\n",
       "      <th>Id</th>\n",
       "      <th>MSSubClass</th>\n",
       "      <th>MSZoning</th>\n",
       "      <th>LotFrontage</th>\n",
       "      <th>LotArea</th>\n",
       "      <th>Street</th>\n",
       "      <th>Alley</th>\n",
       "      <th>LotShape</th>\n",
       "      <th>LandContour</th>\n",
       "      <th>Utilities</th>\n",
       "      <th>...</th>\n",
       "      <th>PoolArea</th>\n",
       "      <th>PoolQC</th>\n",
       "      <th>Fence</th>\n",
       "      <th>MiscFeature</th>\n",
       "      <th>MiscVal</th>\n",
       "      <th>MoSold</th>\n",
       "      <th>YrSold</th>\n",
       "      <th>SaleType</th>\n",
       "      <th>SaleCondition</th>\n",
       "      <th>SalePrice</th>\n",
       "    </tr>\n",
       "  </thead>\n",
       "  <tbody>\n",
       "    <tr>\n",
       "      <th>0</th>\n",
       "      <td>1</td>\n",
       "      <td>60</td>\n",
       "      <td>RL</td>\n",
       "      <td>65.0</td>\n",
       "      <td>8450</td>\n",
       "      <td>Pave</td>\n",
       "      <td>NaN</td>\n",
       "      <td>Reg</td>\n",
       "      <td>Lvl</td>\n",
       "      <td>AllPub</td>\n",
       "      <td>...</td>\n",
       "      <td>0</td>\n",
       "      <td>NaN</td>\n",
       "      <td>NaN</td>\n",
       "      <td>NaN</td>\n",
       "      <td>0</td>\n",
       "      <td>2</td>\n",
       "      <td>2008</td>\n",
       "      <td>WD</td>\n",
       "      <td>Normal</td>\n",
       "      <td>208500</td>\n",
       "    </tr>\n",
       "    <tr>\n",
       "      <th>1</th>\n",
       "      <td>2</td>\n",
       "      <td>20</td>\n",
       "      <td>RL</td>\n",
       "      <td>80.0</td>\n",
       "      <td>9600</td>\n",
       "      <td>Pave</td>\n",
       "      <td>NaN</td>\n",
       "      <td>Reg</td>\n",
       "      <td>Lvl</td>\n",
       "      <td>AllPub</td>\n",
       "      <td>...</td>\n",
       "      <td>0</td>\n",
       "      <td>NaN</td>\n",
       "      <td>NaN</td>\n",
       "      <td>NaN</td>\n",
       "      <td>0</td>\n",
       "      <td>5</td>\n",
       "      <td>2007</td>\n",
       "      <td>WD</td>\n",
       "      <td>Normal</td>\n",
       "      <td>181500</td>\n",
       "    </tr>\n",
       "    <tr>\n",
       "      <th>2</th>\n",
       "      <td>3</td>\n",
       "      <td>60</td>\n",
       "      <td>RL</td>\n",
       "      <td>68.0</td>\n",
       "      <td>11250</td>\n",
       "      <td>Pave</td>\n",
       "      <td>NaN</td>\n",
       "      <td>IR1</td>\n",
       "      <td>Lvl</td>\n",
       "      <td>AllPub</td>\n",
       "      <td>...</td>\n",
       "      <td>0</td>\n",
       "      <td>NaN</td>\n",
       "      <td>NaN</td>\n",
       "      <td>NaN</td>\n",
       "      <td>0</td>\n",
       "      <td>9</td>\n",
       "      <td>2008</td>\n",
       "      <td>WD</td>\n",
       "      <td>Normal</td>\n",
       "      <td>223500</td>\n",
       "    </tr>\n",
       "    <tr>\n",
       "      <th>3</th>\n",
       "      <td>4</td>\n",
       "      <td>70</td>\n",
       "      <td>RL</td>\n",
       "      <td>60.0</td>\n",
       "      <td>9550</td>\n",
       "      <td>Pave</td>\n",
       "      <td>NaN</td>\n",
       "      <td>IR1</td>\n",
       "      <td>Lvl</td>\n",
       "      <td>AllPub</td>\n",
       "      <td>...</td>\n",
       "      <td>0</td>\n",
       "      <td>NaN</td>\n",
       "      <td>NaN</td>\n",
       "      <td>NaN</td>\n",
       "      <td>0</td>\n",
       "      <td>2</td>\n",
       "      <td>2006</td>\n",
       "      <td>WD</td>\n",
       "      <td>Abnorml</td>\n",
       "      <td>140000</td>\n",
       "    </tr>\n",
       "    <tr>\n",
       "      <th>4</th>\n",
       "      <td>5</td>\n",
       "      <td>60</td>\n",
       "      <td>RL</td>\n",
       "      <td>84.0</td>\n",
       "      <td>14260</td>\n",
       "      <td>Pave</td>\n",
       "      <td>NaN</td>\n",
       "      <td>IR1</td>\n",
       "      <td>Lvl</td>\n",
       "      <td>AllPub</td>\n",
       "      <td>...</td>\n",
       "      <td>0</td>\n",
       "      <td>NaN</td>\n",
       "      <td>NaN</td>\n",
       "      <td>NaN</td>\n",
       "      <td>0</td>\n",
       "      <td>12</td>\n",
       "      <td>2008</td>\n",
       "      <td>WD</td>\n",
       "      <td>Normal</td>\n",
       "      <td>250000</td>\n",
       "    </tr>\n",
       "  </tbody>\n",
       "</table>\n",
       "<p>5 rows × 81 columns</p>\n",
       "</div>"
      ],
      "text/plain": [
       "   Id  MSSubClass MSZoning  LotFrontage  LotArea Street Alley LotShape  \\\n",
       "0   1          60       RL         65.0     8450   Pave   NaN      Reg   \n",
       "1   2          20       RL         80.0     9600   Pave   NaN      Reg   \n",
       "2   3          60       RL         68.0    11250   Pave   NaN      IR1   \n",
       "3   4          70       RL         60.0     9550   Pave   NaN      IR1   \n",
       "4   5          60       RL         84.0    14260   Pave   NaN      IR1   \n",
       "\n",
       "  LandContour Utilities  ... PoolArea PoolQC Fence MiscFeature MiscVal MoSold  \\\n",
       "0         Lvl    AllPub  ...        0    NaN   NaN         NaN       0      2   \n",
       "1         Lvl    AllPub  ...        0    NaN   NaN         NaN       0      5   \n",
       "2         Lvl    AllPub  ...        0    NaN   NaN         NaN       0      9   \n",
       "3         Lvl    AllPub  ...        0    NaN   NaN         NaN       0      2   \n",
       "4         Lvl    AllPub  ...        0    NaN   NaN         NaN       0     12   \n",
       "\n",
       "  YrSold  SaleType  SaleCondition  SalePrice  \n",
       "0   2008        WD         Normal     208500  \n",
       "1   2007        WD         Normal     181500  \n",
       "2   2008        WD         Normal     223500  \n",
       "3   2006        WD        Abnorml     140000  \n",
       "4   2008        WD         Normal     250000  \n",
       "\n",
       "[5 rows x 81 columns]"
      ]
     },
     "execution_count": 21,
     "metadata": {},
     "output_type": "execute_result"
    }
   ],
   "source": [
    "df_train.head()"
   ]
  },
  {
   "cell_type": "code",
   "execution_count": 22,
   "metadata": {
    "execution": {
     "iopub.execute_input": "2022-06-04T07:52:41.903880Z",
     "iopub.status.busy": "2022-06-04T07:52:41.903251Z",
     "iopub.status.idle": "2022-06-04T07:52:41.924005Z",
     "shell.execute_reply": "2022-06-04T07:52:41.923089Z",
     "shell.execute_reply.started": "2022-06-04T07:52:41.903835Z"
    }
   },
   "outputs": [
    {
     "name": "stdout",
     "output_type": "stream",
     "text": [
      "<class 'pandas.core.frame.DataFrame'>\n",
      "RangeIndex: 1460 entries, 0 to 1459\n",
      "Data columns (total 81 columns):\n",
      " #   Column         Non-Null Count  Dtype  \n",
      "---  ------         --------------  -----  \n",
      " 0   Id             1460 non-null   int64  \n",
      " 1   MSSubClass     1460 non-null   int64  \n",
      " 2   MSZoning       1460 non-null   object \n",
      " 3   LotFrontage    1201 non-null   float64\n",
      " 4   LotArea        1460 non-null   int64  \n",
      " 5   Street         1460 non-null   object \n",
      " 6   Alley          91 non-null     object \n",
      " 7   LotShape       1460 non-null   object \n",
      " 8   LandContour    1460 non-null   object \n",
      " 9   Utilities      1460 non-null   object \n",
      " 10  LotConfig      1460 non-null   object \n",
      " 11  LandSlope      1460 non-null   object \n",
      " 12  Neighborhood   1460 non-null   object \n",
      " 13  Condition1     1460 non-null   object \n",
      " 14  Condition2     1460 non-null   object \n",
      " 15  BldgType       1460 non-null   object \n",
      " 16  HouseStyle     1460 non-null   object \n",
      " 17  OverallQual    1460 non-null   int64  \n",
      " 18  OverallCond    1460 non-null   int64  \n",
      " 19  YearBuilt      1460 non-null   int64  \n",
      " 20  YearRemodAdd   1460 non-null   int64  \n",
      " 21  RoofStyle      1460 non-null   object \n",
      " 22  RoofMatl       1460 non-null   object \n",
      " 23  Exterior1st    1460 non-null   object \n",
      " 24  Exterior2nd    1460 non-null   object \n",
      " 25  MasVnrType     1452 non-null   object \n",
      " 26  MasVnrArea     1452 non-null   float64\n",
      " 27  ExterQual      1460 non-null   object \n",
      " 28  ExterCond      1460 non-null   object \n",
      " 29  Foundation     1460 non-null   object \n",
      " 30  BsmtQual       1423 non-null   object \n",
      " 31  BsmtCond       1423 non-null   object \n",
      " 32  BsmtExposure   1422 non-null   object \n",
      " 33  BsmtFinType1   1423 non-null   object \n",
      " 34  BsmtFinSF1     1460 non-null   int64  \n",
      " 35  BsmtFinType2   1422 non-null   object \n",
      " 36  BsmtFinSF2     1460 non-null   int64  \n",
      " 37  BsmtUnfSF      1460 non-null   int64  \n",
      " 38  TotalBsmtSF    1460 non-null   int64  \n",
      " 39  Heating        1460 non-null   object \n",
      " 40  HeatingQC      1460 non-null   object \n",
      " 41  CentralAir     1460 non-null   object \n",
      " 42  Electrical     1459 non-null   object \n",
      " 43  1stFlrSF       1460 non-null   int64  \n",
      " 44  2ndFlrSF       1460 non-null   int64  \n",
      " 45  LowQualFinSF   1460 non-null   int64  \n",
      " 46  GrLivArea      1460 non-null   int64  \n",
      " 47  BsmtFullBath   1460 non-null   int64  \n",
      " 48  BsmtHalfBath   1460 non-null   int64  \n",
      " 49  FullBath       1460 non-null   int64  \n",
      " 50  HalfBath       1460 non-null   int64  \n",
      " 51  BedroomAbvGr   1460 non-null   int64  \n",
      " 52  KitchenAbvGr   1460 non-null   int64  \n",
      " 53  KitchenQual    1460 non-null   object \n",
      " 54  TotRmsAbvGrd   1460 non-null   int64  \n",
      " 55  Functional     1460 non-null   object \n",
      " 56  Fireplaces     1460 non-null   int64  \n",
      " 57  FireplaceQu    770 non-null    object \n",
      " 58  GarageType     1379 non-null   object \n",
      " 59  GarageYrBlt    1379 non-null   float64\n",
      " 60  GarageFinish   1379 non-null   object \n",
      " 61  GarageCars     1460 non-null   int64  \n",
      " 62  GarageArea     1460 non-null   int64  \n",
      " 63  GarageQual     1379 non-null   object \n",
      " 64  GarageCond     1379 non-null   object \n",
      " 65  PavedDrive     1460 non-null   object \n",
      " 66  WoodDeckSF     1460 non-null   int64  \n",
      " 67  OpenPorchSF    1460 non-null   int64  \n",
      " 68  EnclosedPorch  1460 non-null   int64  \n",
      " 69  3SsnPorch      1460 non-null   int64  \n",
      " 70  ScreenPorch    1460 non-null   int64  \n",
      " 71  PoolArea       1460 non-null   int64  \n",
      " 72  PoolQC         7 non-null      object \n",
      " 73  Fence          281 non-null    object \n",
      " 74  MiscFeature    54 non-null     object \n",
      " 75  MiscVal        1460 non-null   int64  \n",
      " 76  MoSold         1460 non-null   int64  \n",
      " 77  YrSold         1460 non-null   int64  \n",
      " 78  SaleType       1460 non-null   object \n",
      " 79  SaleCondition  1460 non-null   object \n",
      " 80  SalePrice      1460 non-null   int64  \n",
      "dtypes: float64(3), int64(35), object(43)\n",
      "memory usage: 924.0+ KB\n"
     ]
    }
   ],
   "source": [
    "df_train.info()"
   ]
  },
  {
   "cell_type": "code",
   "execution_count": 23,
   "metadata": {
    "execution": {
     "iopub.execute_input": "2022-06-04T07:52:41.983995Z",
     "iopub.status.busy": "2022-06-04T07:52:41.983604Z",
     "iopub.status.idle": "2022-06-04T07:52:41.992429Z",
     "shell.execute_reply": "2022-06-04T07:52:41.991615Z",
     "shell.execute_reply.started": "2022-06-04T07:52:41.983960Z"
    }
   },
   "outputs": [],
   "source": [
    "df_train.drop(\"Id\",inplace = True,axis=1)\n",
    "df_test.drop(\"Id\",inplace = True,axis=1)"
   ]
  },
  {
   "cell_type": "code",
   "execution_count": 24,
   "metadata": {
    "execution": {
     "iopub.execute_input": "2022-06-04T07:52:42.094564Z",
     "iopub.status.busy": "2022-06-04T07:52:42.093676Z",
     "iopub.status.idle": "2022-06-04T07:52:42.107767Z",
     "shell.execute_reply": "2022-06-04T07:52:42.106673Z",
     "shell.execute_reply.started": "2022-06-04T07:52:42.094529Z"
    }
   },
   "outputs": [
    {
     "name": "stdout",
     "output_type": "stream",
     "text": [
      "43\n",
      "['MSZoning', 'Street', 'Alley', 'LotShape', 'LandContour', 'Utilities', 'LotConfig', 'LandSlope', 'Neighborhood', 'Condition1', 'Condition2', 'BldgType', 'HouseStyle', 'RoofStyle', 'RoofMatl', 'Exterior1st', 'Exterior2nd', 'MasVnrType', 'ExterQual', 'ExterCond', 'Foundation', 'BsmtQual', 'BsmtCond', 'BsmtExposure', 'BsmtFinType1', 'BsmtFinType2', 'Heating', 'HeatingQC', 'CentralAir', 'Electrical', 'KitchenQual', 'Functional', 'FireplaceQu', 'GarageType', 'GarageFinish', 'GarageQual', 'GarageCond', 'PavedDrive', 'PoolQC', 'Fence', 'MiscFeature', 'SaleType', 'SaleCondition']\n"
     ]
    }
   ],
   "source": [
    "trian_corr =df_train.corr()\n",
    "float_data = trian_corr.index #是float或int的的傢伙\n",
    "all_col = df_train.columns #全部的col\n",
    "object_data = []\n",
    "for i in range(len(all_col)): #查找全部的all_col，len(all_col)是長度(要全部找過一遍)\n",
    "    if all_col[i] not in float_data: #如果在float_data裡面沒有，表示它是object幫的\n",
    "        object_data.append(all_col[i]) #不是就加上去\n",
    "print(len(object_data))\n",
    "print(object_data)"
   ]
  },
  {
   "cell_type": "code",
   "execution_count": 25,
   "metadata": {
    "execution": {
     "iopub.execute_input": "2022-06-04T07:52:42.182846Z",
     "iopub.status.busy": "2022-06-04T07:52:42.182478Z",
     "iopub.status.idle": "2022-06-04T07:52:42.238404Z",
     "shell.execute_reply": "2022-06-04T07:52:42.237669Z",
     "shell.execute_reply.started": "2022-06-04T07:52:42.182815Z"
    }
   },
   "outputs": [
    {
     "ename": "NameError",
     "evalue": "name 'LabelEncoder' is not defined",
     "output_type": "error",
     "traceback": [
      "\u001b[0;31m---------------------------------------------------------------------------\u001b[0m",
      "\u001b[0;31mNameError\u001b[0m                                 Traceback (most recent call last)",
      "Input \u001b[0;32mIn [25]\u001b[0m, in \u001b[0;36m<cell line: 1>\u001b[0;34m()\u001b[0m\n\u001b[1;32m      1\u001b[0m \u001b[38;5;28;01mfor\u001b[39;00m i \u001b[38;5;129;01min\u001b[39;00m object_data: \u001b[38;5;66;03m#將轉換是object的傢伙轉換，從object_data陣列一個一個抓出來改造\u001b[39;00m\n\u001b[0;32m----> 2\u001b[0m         df_train[i] \u001b[38;5;241m=\u001b[39m \u001b[43mLabelEncoder\u001b[49m()\u001b[38;5;241m.\u001b[39mfit_transform(df_train[i]\u001b[38;5;241m.\u001b[39mfactorize()[\u001b[38;5;241m0\u001b[39m]) \n\u001b[1;32m      3\u001b[0m         \u001b[38;5;66;03m#pd.factorize()[0]會給nans(缺失值)一個-1的值，若沒寫這個，會造成等號兩邊不等的情況\u001b[39;00m\n\u001b[1;32m      4\u001b[0m df_train\n",
      "\u001b[0;31mNameError\u001b[0m: name 'LabelEncoder' is not defined"
     ]
    }
   ],
   "source": [
    "for i in object_data: #將轉換是object的傢伙轉換，從object_data陣列一個一個抓出來改造\n",
    "        df_train[i] = LabelEncoder().fit_transform(df_train[i].factorize()[0]) \n",
    "        #pd.factorize()[0]會給nans(缺失值)一個-1的值，若沒寫這個，會造成等號兩邊不等的情況\n",
    "df_train"
   ]
  },
  {
   "cell_type": "code",
   "execution_count": 26,
   "metadata": {
    "execution": {
     "iopub.execute_input": "2022-06-04T07:52:42.302806Z",
     "iopub.status.busy": "2022-06-04T07:52:42.302064Z",
     "iopub.status.idle": "2022-06-04T07:52:42.336004Z",
     "shell.execute_reply": "2022-06-04T07:52:42.334994Z",
     "shell.execute_reply.started": "2022-06-04T07:52:42.302768Z"
    }
   },
   "outputs": [
    {
     "name": "stdout",
     "output_type": "stream",
     "text": [
      "(37, 37)\n"
     ]
    }
   ],
   "source": [
    "trian_corr =df_train.corr() #計算相關係數\n",
    "print(trian_corr.shape) #查看形狀"
   ]
  },
  {
   "cell_type": "code",
   "execution_count": 27,
   "metadata": {
    "execution": {
     "iopub.execute_input": "2022-06-04T07:52:42.403627Z",
     "iopub.status.busy": "2022-06-04T07:52:42.403219Z",
     "iopub.status.idle": "2022-06-04T07:53:04.577233Z",
     "shell.execute_reply": "2022-06-04T07:53:04.574175Z",
     "shell.execute_reply.started": "2022-06-04T07:52:42.403595Z"
    }
   },
   "outputs": [
    {
     "ename": "NameError",
     "evalue": "name 'plt' is not defined",
     "output_type": "error",
     "traceback": [
      "\u001b[0;31m---------------------------------------------------------------------------\u001b[0m",
      "\u001b[0;31mNameError\u001b[0m                                 Traceback (most recent call last)",
      "Input \u001b[0;32mIn [27]\u001b[0m, in \u001b[0;36m<cell line: 1>\u001b[0;34m()\u001b[0m\n\u001b[0;32m----> 1\u001b[0m \u001b[43mplt\u001b[49m\u001b[38;5;241m.\u001b[39msubplots(figsize\u001b[38;5;241m=\u001b[39m(\u001b[38;5;241m30\u001b[39m, \u001b[38;5;241m10\u001b[39m))  \u001b[38;5;66;03m# 設置長寬尺寸大小\u001b[39;00m\n\u001b[1;32m      2\u001b[0m sns\u001b[38;5;241m.\u001b[39mheatmap(trian_corr, annot\u001b[38;5;241m=\u001b[39m\u001b[38;5;28;01mTrue\u001b[39;00m, vmax\u001b[38;5;241m=\u001b[39m\u001b[38;5;241m1\u001b[39m, cmap\u001b[38;5;241m=\u001b[39m\u001b[38;5;124m\"\u001b[39m\u001b[38;5;124mBlues\u001b[39m\u001b[38;5;124m\"\u001b[39m)\n",
      "\u001b[0;31mNameError\u001b[0m: name 'plt' is not defined"
     ]
    }
   ],
   "source": [
    "plt.subplots(figsize=(30, 10))  # 設置長寬尺寸大小\n",
    "sns.heatmap(trian_corr, annot=True, vmax=1, cmap=\"Blues\")"
   ]
  },
  {
   "cell_type": "code",
   "execution_count": 28,
   "metadata": {
    "execution": {
     "iopub.execute_input": "2022-06-04T07:53:04.580123Z",
     "iopub.status.busy": "2022-06-04T07:53:04.579478Z",
     "iopub.status.idle": "2022-06-04T07:53:04.588164Z",
     "shell.execute_reply": "2022-06-04T07:53:04.587133Z",
     "shell.execute_reply.started": "2022-06-04T07:53:04.580077Z"
    }
   },
   "outputs": [
    {
     "name": "stdout",
     "output_type": "stream",
     "text": [
      "Index(['OverallQual', 'TotalBsmtSF', '1stFlrSF', 'GrLivArea', 'GarageCars',\n",
      "       'GarageArea', 'SalePrice'],\n",
      "      dtype='object')\n"
     ]
    }
   ],
   "source": [
    "high_corr = trian_corr.index[abs(trian_corr[\"SalePrice\"])>0.6]\n",
    "#abs是取絕對值的意思\n",
    "#abs(trian_corr[\"SalePrice\"])>0.6 這句的意思是與SalePrice有關的係數>0.6的判別式，它會輸出True(大於0.6)或是False\n",
    "#abs(trian_corr[\"SalePrice\"])>0.6 會丟回一堆True和False，放在原本的trian_corr.index[]就會把是大於0.6的傳回去\n",
    "print(high_corr)"
   ]
  },
  {
   "cell_type": "code",
   "execution_count": 29,
   "metadata": {
    "execution": {
     "iopub.execute_input": "2022-06-04T07:53:04.589488Z",
     "iopub.status.busy": "2022-06-04T07:53:04.589111Z",
     "iopub.status.idle": "2022-06-04T07:53:04.654260Z",
     "shell.execute_reply": "2022-06-04T07:53:04.653613Z",
     "shell.execute_reply.started": "2022-06-04T07:53:04.589450Z"
    }
   },
   "outputs": [
    {
     "name": "stdout",
     "output_type": "stream",
     "text": [
      "      OverallQual  TotalBsmtSF  1stFlrSF  GrLivArea  GarageCars  GarageArea  \\\n",
      "0               7          856       856       1710           2         548   \n",
      "1               6         1262      1262       1262           2         460   \n",
      "2               7          920       920       1786           2         608   \n",
      "3               7          756       961       1717           3         642   \n",
      "4               8         1145      1145       2198           3         836   \n",
      "...           ...          ...       ...        ...         ...         ...   \n",
      "1455            6          953       953       1647           2         460   \n",
      "1456            6         1542      2073       2073           2         500   \n",
      "1457            7         1152      1188       2340           1         252   \n",
      "1458            5         1078      1078       1078           1         240   \n",
      "1459            5         1256      1256       1256           1         276   \n",
      "\n",
      "      SalePrice  \n",
      "0        208500  \n",
      "1        181500  \n",
      "2        223500  \n",
      "3        140000  \n",
      "4        250000  \n",
      "...         ...  \n",
      "1455     175000  \n",
      "1456     210000  \n",
      "1457     266500  \n",
      "1458     142125  \n",
      "1459     147500  \n",
      "\n",
      "[1460 rows x 7 columns]\n"
     ]
    }
   ],
   "source": [
    "for i in df_train.columns: #查找原本資料中所有columns\n",
    "    if i not in high_corr: #如果沒有相關係數大於0.6的話\n",
    "        df_train = df_train.drop(i,axis=1) #就把它拔掉\n",
    "print(df_train)"
   ]
  },
  {
   "cell_type": "code",
   "execution_count": 30,
   "metadata": {
    "execution": {
     "iopub.execute_input": "2022-06-04T07:53:04.656219Z",
     "iopub.status.busy": "2022-06-04T07:53:04.655948Z",
     "iopub.status.idle": "2022-06-04T07:53:04.665556Z",
     "shell.execute_reply": "2022-06-04T07:53:04.664723Z",
     "shell.execute_reply.started": "2022-06-04T07:53:04.656193Z"
    }
   },
   "outputs": [
    {
     "name": "stdout",
     "output_type": "stream",
     "text": [
      "[208500 181500 223500 ... 266500 142125 147500]\n",
      "**************************************************\n",
      "      OverallQual  TotalBsmtSF  1stFlrSF  GrLivArea  GarageCars  GarageArea\n",
      "0               7          856       856       1710           2         548\n",
      "1               6         1262      1262       1262           2         460\n",
      "2               7          920       920       1786           2         608\n",
      "3               7          756       961       1717           3         642\n",
      "4               8         1145      1145       2198           3         836\n",
      "...           ...          ...       ...        ...         ...         ...\n",
      "1455            6          953       953       1647           2         460\n",
      "1456            6         1542      2073       2073           2         500\n",
      "1457            7         1152      1188       2340           1         252\n",
      "1458            5         1078      1078       1078           1         240\n",
      "1459            5         1256      1256       1256           1         276\n",
      "\n",
      "[1460 rows x 6 columns]\n"
     ]
    }
   ],
   "source": [
    "train_targets = df_train[\"SalePrice\"].values #把SalePrice這行數值整個拉出來\n",
    "train_data = df_train.drop(columns=[\"SalePrice\"]) #刪除SalePrice這行\n",
    "print(train_targets)\n",
    "print(\"*\"*50)\n",
    "print(train_data)"
   ]
  },
  {
   "cell_type": "code",
   "execution_count": 31,
   "metadata": {
    "execution": {
     "iopub.execute_input": "2022-06-04T07:53:04.667414Z",
     "iopub.status.busy": "2022-06-04T07:53:04.667092Z",
     "iopub.status.idle": "2022-06-04T07:53:04.679109Z",
     "shell.execute_reply": "2022-06-04T07:53:04.678009Z",
     "shell.execute_reply.started": "2022-06-04T07:53:04.667385Z"
    }
   },
   "outputs": [
    {
     "ename": "NameError",
     "evalue": "name 'train_test_split' is not defined",
     "output_type": "error",
     "traceback": [
      "\u001b[0;31m---------------------------------------------------------------------------\u001b[0m",
      "\u001b[0;31mNameError\u001b[0m                                 Traceback (most recent call last)",
      "Input \u001b[0;32mIn [31]\u001b[0m, in \u001b[0;36m<cell line: 1>\u001b[0;34m()\u001b[0m\n\u001b[0;32m----> 1\u001b[0m X_train,X_validation,Y_trian,Y_validation \u001b[38;5;241m=\u001b[39m \u001b[43mtrain_test_split\u001b[49m(train_data, train_targets, test_size\u001b[38;5;241m=\u001b[39m\u001b[38;5;241m0.2\u001b[39m, random_state\u001b[38;5;241m=\u001b[39m\u001b[38;5;241m0\u001b[39m)\n\u001b[1;32m      2\u001b[0m \u001b[38;5;66;03m#X_train,X_test, y_train, y_test = model_selection.train_test_split(train_data,train_target,test_size=0.2, random_state=0)\u001b[39;00m\n\u001b[1;32m      3\u001b[0m \u001b[38;5;66;03m#train_test_split的括號裡面，1.資料的x那些種類2.y的部分3.X_test的部分要佔全部資料的多少(我們這裡是驗證集唷)4.指定一個隨機種子，0的話就是隨機囉\u001b[39;00m\n\u001b[1;32m      4\u001b[0m \u001b[38;5;66;03m#就是一種隨機切分資料的功能\u001b[39;00m\n\u001b[1;32m      5\u001b[0m \u001b[38;5;66;03m#隨機種子相同的話，在另一個框框在跑一次一樣的code還是會出現相同的隨機數\u001b[39;00m\n\u001b[1;32m      6\u001b[0m \u001b[38;5;28mprint\u001b[39m(X_train\u001b[38;5;241m.\u001b[39mshape)\n",
      "\u001b[0;31mNameError\u001b[0m: name 'train_test_split' is not defined"
     ]
    }
   ],
   "source": [
    "X_train,X_validation,Y_trian,Y_validation = train_test_split(train_data, train_targets, test_size=0.2, random_state=0)\n",
    "#X_train,X_test, y_train, y_test = model_selection.train_test_split(train_data,train_target,test_size=0.2, random_state=0)\n",
    "#train_test_split的括號裡面，1.資料的x那些種類2.y的部分3.X_test的部分要佔全部資料的多少(我們這裡是驗證集唷)4.指定一個隨機種子，0的話就是隨機囉\n",
    "#就是一種隨機切分資料的功能\n",
    "#隨機種子相同的話，在另一個框框在跑一次一樣的code還是會出現相同的隨機數\n",
    "print(X_train.shape)\n",
    "print(Y_trian.shape)\n",
    "print('*'*50)\n",
    "print(X_validation.shape)\n",
    "print(Y_validation.shape)\n",
    "X_train_dataset = X_train.values #取出數值，轉換回list\n",
    "X_validation_dataset = X_validation.values\n",
    "print(X_train_dataset)"
   ]
  },
  {
   "cell_type": "code",
   "execution_count": 32,
   "metadata": {
    "execution": {
     "iopub.execute_input": "2022-06-04T07:53:04.680639Z",
     "iopub.status.busy": "2022-06-04T07:53:04.680221Z",
     "iopub.status.idle": "2022-06-04T07:53:04.697084Z",
     "shell.execute_reply": "2022-06-04T07:53:04.696102Z",
     "shell.execute_reply.started": "2022-06-04T07:53:04.680606Z"
    }
   },
   "outputs": [
    {
     "ename": "NameError",
     "evalue": "name 'preprocessing' is not defined",
     "output_type": "error",
     "traceback": [
      "\u001b[0;31m---------------------------------------------------------------------------\u001b[0m",
      "\u001b[0;31mNameError\u001b[0m                                 Traceback (most recent call last)",
      "Input \u001b[0;32mIn [32]\u001b[0m, in \u001b[0;36m<cell line: 1>\u001b[0;34m()\u001b[0m\n\u001b[0;32m----> 1\u001b[0m normalize \u001b[38;5;241m=\u001b[39m \u001b[43mpreprocessing\u001b[49m\u001b[38;5;241m.\u001b[39mStandardScaler() \u001b[38;5;66;03m#取一個短的名字\u001b[39;00m\n\u001b[1;32m      2\u001b[0m \u001b[38;5;66;03m# 標準化處理\u001b[39;00m\n\u001b[1;32m      3\u001b[0m X_trian_normal_data \u001b[38;5;241m=\u001b[39m normalize\u001b[38;5;241m.\u001b[39mfit_transform(X_train_dataset) \u001b[38;5;66;03m#將訓練資料標準化\u001b[39;00m\n",
      "\u001b[0;31mNameError\u001b[0m: name 'preprocessing' is not defined"
     ]
    }
   ],
   "source": [
    "normalize = preprocessing.StandardScaler() #取一個短的名字\n",
    "# 標準化處理\n",
    "X_trian_normal_data = normalize.fit_transform(X_train_dataset) #將訓練資料標準化\n",
    "X_validation_normal_data = normalize.fit_transform(X_validation_dataset) #將驗證資料標準化\n",
    "\n",
    "print(X_trian_normal_data)\n",
    "print('*'*50)\n",
    "print(X_validation_normal_data)"
   ]
  },
  {
   "cell_type": "code",
   "execution_count": 33,
   "metadata": {
    "execution": {
     "iopub.execute_input": "2022-06-04T07:53:04.698591Z",
     "iopub.status.busy": "2022-06-04T07:53:04.698086Z",
     "iopub.status.idle": "2022-06-04T07:53:04.709025Z",
     "shell.execute_reply": "2022-06-04T07:53:04.708352Z",
     "shell.execute_reply.started": "2022-06-04T07:53:04.698554Z"
    }
   },
   "outputs": [
    {
     "ename": "ModuleNotFoundError",
     "evalue": "No module named 'keras'",
     "output_type": "error",
     "traceback": [
      "\u001b[0;31m---------------------------------------------------------------------------\u001b[0m",
      "\u001b[0;31mModuleNotFoundError\u001b[0m                       Traceback (most recent call last)",
      "Input \u001b[0;32mIn [33]\u001b[0m, in \u001b[0;36m<cell line: 4>\u001b[0;34m()\u001b[0m\n\u001b[1;32m      1\u001b[0m \u001b[38;5;66;03m# from keras.models import Sequential\u001b[39;00m\n\u001b[1;32m      2\u001b[0m \u001b[38;5;66;03m# from keras import optimizers\u001b[39;00m\n\u001b[1;32m      3\u001b[0m \u001b[38;5;66;03m# from keras.layers import BatchNormalization, Dropout, Dense\u001b[39;00m\n\u001b[0;32m----> 4\u001b[0m \u001b[38;5;28;01mfrom\u001b[39;00m \u001b[38;5;21;01mkeras\u001b[39;00m\u001b[38;5;21;01m.\u001b[39;00m\u001b[38;5;21;01mcallbacks\u001b[39;00m \u001b[38;5;28;01mimport\u001b[39;00m ModelCheckpoint\n\u001b[1;32m      5\u001b[0m \u001b[38;5;28;01mimport\u001b[39;00m \u001b[38;5;21;01mtensorflow\u001b[39;00m \u001b[38;5;28;01mas\u001b[39;00m \u001b[38;5;21;01mtf\u001b[39;00m\n\u001b[1;32m      6\u001b[0m \u001b[38;5;28;01mfrom\u001b[39;00m \u001b[38;5;21;01mtensorflow\u001b[39;00m \u001b[38;5;28;01mimport\u001b[39;00m keras\n",
      "\u001b[0;31mModuleNotFoundError\u001b[0m: No module named 'keras'"
     ]
    }
   ],
   "source": [
    "# from keras.models import Sequential\n",
    "# from keras import optimizers\n",
    "# from keras.layers import BatchNormalization, Dropout, Dense\n",
    "from keras.callbacks import ModelCheckpoint\n",
    "import tensorflow as tf\n",
    "from tensorflow import keras\n",
    "from tensorflow.keras import layers\n",
    "# 上方為引進所需model\n",
    "\n",
    "# 建立model\n",
    "\n",
    "\n",
    "def model():\n",
    "\n",
    "    model = keras.Sequential()\n",
    "\n",
    "    model.add(layers.Dense(1024, kernel_initializer='random_normal',\n",
    "                           activation='relu',\n",
    "                           input_shape=(X_trian_normal_data.shape[1],)))\n",
    "    model.add(layers.Dropout(0.3))\n",
    "\n",
    "    model.add(layers.Dense(1024, kernel_initializer='random_normal',\n",
    "                           activation='relu'))\n",
    "    model.add(layers.Dropout(0.3))\n",
    "\n",
    "    model.add(layers.Dense(512, kernel_initializer='random_normal',\n",
    "                           activation='relu'))\n",
    "    model.add(layers.Dropout(0.3))\n",
    "\n",
    "    model.add(layers.Dense(256, kernel_initializer='random_normal',\n",
    "                           activation='relu'))\n",
    "    model.add(layers.Dropout(0.3))\n",
    "\n",
    "    model.add(layers.Dense(128, kernel_initializer='random_normal',\n",
    "                           activation='relu'))\n",
    "    model.add(layers.Dropout(0.3))\n",
    "\n",
    "    model.add(layers.Dense(32, kernel_initializer='random_normal',\n",
    "                           activation='relu'))\n",
    "    model.add(layers.Dropout(0.3))\n",
    "\n",
    "    model.add(layers.Dense(16, kernel_initializer='random_normal',\n",
    "                           activation='relu'))\n",
    "    model.add(layers.Dropout(0.3))\n",
    "\n",
    "    model.add(layers.Dense(1, kernel_initializer='random_normal',\n",
    "                           activation='linear'))\n",
    "\n",
    "    adam = tf.keras.optimizers.Adam(learning_rate=0.001)\n",
    "    # lr學習率\n",
    "    model.compile(optimizer=adam, loss='mae')\n",
    "    # 設定要的優化器以及loss函數\n",
    "    return model\n"
   ]
  },
  {
   "cell_type": "code",
   "execution_count": 34,
   "metadata": {
    "execution": {
     "iopub.execute_input": "2022-06-04T07:53:04.710343Z",
     "iopub.status.busy": "2022-06-04T07:53:04.710008Z",
     "iopub.status.idle": "2022-06-04T07:53:08.286978Z",
     "shell.execute_reply": "2022-06-04T07:53:08.286085Z",
     "shell.execute_reply.started": "2022-06-04T07:53:04.710304Z"
    }
   },
   "outputs": [
    {
     "ename": "NameError",
     "evalue": "name 'ModelCheckpoint' is not defined",
     "output_type": "error",
     "traceback": [
      "\u001b[0;31m---------------------------------------------------------------------------\u001b[0m",
      "\u001b[0;31mNameError\u001b[0m                                 Traceback (most recent call last)",
      "Input \u001b[0;32mIn [34]\u001b[0m, in \u001b[0;36m<cell line: 1>\u001b[0;34m()\u001b[0m\n\u001b[0;32m----> 1\u001b[0m call \u001b[38;5;241m=\u001b[39m \u001b[43mModelCheckpoint\u001b[49m(\u001b[38;5;124m'\u001b[39m\u001b[38;5;124m/kaggle/working/\u001b[39m\u001b[38;5;124m'\u001b[39m,\n\u001b[1;32m      2\u001b[0m                      monitor \u001b[38;5;241m=\u001b[39m \u001b[38;5;124m'\u001b[39m\u001b[38;5;124mval_loss\u001b[39m\u001b[38;5;124m'\u001b[39m,\n\u001b[1;32m      3\u001b[0m                      \u001b[38;5;66;03m#verbose = 'auto',\u001b[39;00m\n\u001b[1;32m      4\u001b[0m                      save_best_only \u001b[38;5;241m=\u001b[39m \u001b[38;5;28;01mTrue\u001b[39;00m,\n\u001b[1;32m      5\u001b[0m                      save_weights_only \u001b[38;5;241m=\u001b[39m \u001b[38;5;28;01mTrue\u001b[39;00m,\n\u001b[1;32m      6\u001b[0m                      mode \u001b[38;5;241m=\u001b[39m \u001b[38;5;124m'\u001b[39m\u001b[38;5;124mauto\u001b[39m\u001b[38;5;124m'\u001b[39m,\n\u001b[1;32m      7\u001b[0m                      period \u001b[38;5;241m=\u001b[39m \u001b[38;5;241m1\u001b[39m)\n\u001b[1;32m      9\u001b[0m mm \u001b[38;5;241m=\u001b[39m model()    \n\u001b[1;32m     10\u001b[0m history \u001b[38;5;241m=\u001b[39m mm\u001b[38;5;241m.\u001b[39mfit(X_trian_normal_data, Y_trian,\n\u001b[1;32m     11\u001b[0m                     \u001b[38;5;66;03m#validation_data = (X_validation_normal_data, Y_validation),\u001b[39;00m\n\u001b[1;32m     12\u001b[0m                     validation_split\u001b[38;5;241m=\u001b[39m\u001b[38;5;241m0.2\u001b[39m,\n\u001b[1;32m     13\u001b[0m                     callbacks \u001b[38;5;241m=\u001b[39m [call],\n\u001b[1;32m     14\u001b[0m                     epochs \u001b[38;5;241m=\u001b[39m \u001b[38;5;241m10\u001b[39m,\n\u001b[1;32m     15\u001b[0m                     batch_size \u001b[38;5;241m=\u001b[39m \u001b[38;5;241m512\u001b[39m, verbose \u001b[38;5;241m=\u001b[39m \u001b[38;5;241m1\u001b[39m)\n",
      "\u001b[0;31mNameError\u001b[0m: name 'ModelCheckpoint' is not defined"
     ]
    }
   ],
   "source": [
    "call = ModelCheckpoint('./',\n",
    "                     monitor = 'val_loss',\n",
    "                     #verbose = 'auto',\n",
    "                     save_best_only = True,\n",
    "                     save_weights_only = True,\n",
    "                     mode = 'auto',\n",
    "                     period = 1)\n",
    "\n",
    "mm = model()    \n",
    "history = mm.fit(X_trian_normal_data, Y_trian,\n",
    "                    #validation_data = (X_validation_normal_data, Y_validation),\n",
    "                    validation_split=0.2,\n",
    "                    callbacks = [call],\n",
    "                    epochs = 10,\n",
    "                    batch_size = 512, verbose = 1)"
   ]
  },
  {
   "cell_type": "code",
   "execution_count": 35,
   "metadata": {
    "execution": {
     "iopub.execute_input": "2022-06-04T07:53:08.289440Z",
     "iopub.status.busy": "2022-06-04T07:53:08.288665Z",
     "iopub.status.idle": "2022-06-04T07:53:08.296602Z",
     "shell.execute_reply": "2022-06-04T07:53:08.295562Z",
     "shell.execute_reply.started": "2022-06-04T07:53:08.289396Z"
    }
   },
   "outputs": [
    {
     "ename": "NameError",
     "evalue": "name 'mm' is not defined",
     "output_type": "error",
     "traceback": [
      "\u001b[0;31m---------------------------------------------------------------------------\u001b[0m",
      "\u001b[0;31mNameError\u001b[0m                                 Traceback (most recent call last)",
      "Input \u001b[0;32mIn [35]\u001b[0m, in \u001b[0;36m<cell line: 1>\u001b[0;34m()\u001b[0m\n\u001b[0;32m----> 1\u001b[0m \u001b[43mmm\u001b[49m\u001b[38;5;241m.\u001b[39msummary()\n",
      "\u001b[0;31mNameError\u001b[0m: name 'mm' is not defined"
     ]
    }
   ],
   "source": [
    "mm.summary()"
   ]
  },
  {
   "cell_type": "code",
   "execution_count": 18,
   "metadata": {
    "execution": {
     "iopub.execute_input": "2022-06-04T07:53:08.300279Z",
     "iopub.status.busy": "2022-06-04T07:53:08.299609Z",
     "iopub.status.idle": "2022-06-04T07:53:09.046058Z",
     "shell.execute_reply": "2022-06-04T07:53:09.045435Z",
     "shell.execute_reply.started": "2022-06-04T07:53:08.300230Z"
    }
   },
   "outputs": [
    {
     "ename": "NameError",
     "evalue": "name 'plt' is not defined",
     "output_type": "error",
     "traceback": [
      "\u001b[0;31m---------------------------------------------------------------------------\u001b[0m",
      "\u001b[0;31mNameError\u001b[0m                                 Traceback (most recent call last)",
      "Input \u001b[0;32mIn [18]\u001b[0m, in \u001b[0;36m<cell line: 1>\u001b[0;34m()\u001b[0m\n\u001b[0;32m----> 1\u001b[0m \u001b[43mplt\u001b[49m\u001b[38;5;241m.\u001b[39mplot(history\u001b[38;5;241m.\u001b[39mhistory[\u001b[38;5;124m'\u001b[39m\u001b[38;5;124mloss\u001b[39m\u001b[38;5;124m'\u001b[39m])\n\u001b[1;32m      2\u001b[0m \u001b[38;5;66;03m# plt.plot(history.history['val_loss'])\u001b[39;00m\n\u001b[1;32m      3\u001b[0m plt\u001b[38;5;241m.\u001b[39mtitle(\u001b[38;5;124m'\u001b[39m\u001b[38;5;124mmodel loss\u001b[39m\u001b[38;5;124m'\u001b[39m)\n",
      "\u001b[0;31mNameError\u001b[0m: name 'plt' is not defined"
     ]
    }
   ],
   "source": [
    "plt.plot(history.history['loss'])\n",
    "# plt.plot(history.history['val_loss'])\n",
    "plt.title('model loss')\n",
    "plt.ylabel('loss')\n",
    "plt.xlabel('epoch')\n",
    "plt.legend(['train', 'validation'], loc = 'upper right')\n",
    "plt.show()"
   ]
  },
  {
   "cell_type": "code",
   "execution_count": 138,
   "metadata": {
    "execution": {
     "iopub.execute_input": "2022-06-04T07:53:09.047391Z",
     "iopub.status.busy": "2022-06-04T07:53:09.046931Z",
     "iopub.status.idle": "2022-06-04T07:53:09.127591Z",
     "shell.execute_reply": "2022-06-04T07:53:09.126566Z",
     "shell.execute_reply.started": "2022-06-04T07:53:09.047363Z"
    }
   },
   "outputs": [],
   "source": [
    "for i in df_test.columns: #查找原本資料中所有columns\n",
    "    if i not in high_corr: \n",
    "        #如果沒有在訓練時相關係數大於0.6的話就拔掉，因為真正影響房價的不是小於0.6的\n",
    "        df_test = df_test.drop(i,axis=1) \n",
    "        #i是跑過test裡面的columns所有人，axis=1是指定要丟掉\"行\"\n",
    "print(df_test) #看一下刪掉相關係數小的人樣子\n",
    "X_test_dataset = df_test.values #只要數值就好不要dataframe形式\n",
    "from sklearn import preprocessing\n",
    "normalize = preprocessing.StandardScaler() \n",
    "# 標準化處理\n",
    "X_test_normal_data = normalize.fit_transform(X_test_dataset)\n",
    "\n",
    "print(X_test_normal_data) #看一下標準化的結果"
   ]
  },
  {
   "cell_type": "code",
   "execution_count": 139,
   "metadata": {
    "execution": {
     "iopub.execute_input": "2022-06-04T07:53:09.129047Z",
     "iopub.status.busy": "2022-06-04T07:53:09.128735Z",
     "iopub.status.idle": "2022-06-04T07:53:09.445418Z",
     "shell.execute_reply": "2022-06-04T07:53:09.444458Z",
     "shell.execute_reply.started": "2022-06-04T07:53:09.129019Z"
    }
   },
   "outputs": [],
   "source": [
    "model.load_weights('./') #召喚之前儲存的model\n",
    "pred = model.predict(X_test_normal_data) #括號內填入要預測的資料\n",
    "print(pred)"
   ]
  },
  {
   "cell_type": "code",
   "execution_count": 140,
   "metadata": {
    "execution": {
     "iopub.execute_input": "2022-06-04T07:53:09.446874Z",
     "iopub.status.busy": "2022-06-04T07:53:09.446565Z",
     "iopub.status.idle": "2022-06-04T07:53:09.455612Z",
     "shell.execute_reply": "2022-06-04T07:53:09.454675Z",
     "shell.execute_reply.started": "2022-06-04T07:53:09.446839Z"
    }
   },
   "outputs": [],
   "source": [
    "with open('house_predict.csv', 'w') as f: #開啟一個檔案，house_predict.csv是名字；w是寫入\n",
    "    f.write('id,SalePrice\\n') #寫入最上方的列，並用\\n往下一列\n",
    "    for i in range(len(pred)): #len(pred)看整個test有多長，然後用for去跑全部\n",
    "        f.write(str(i + 1461) + ',' + str(float(pred[i])) + '\\n')"
   ]
  }
 ],
 "metadata": {
  "kernelspec": {
   "display_name": "Python 3 (ipykernel)",
   "language": "python",
   "name": "python3"
  },
  "language_info": {
   "codemirror_mode": {
    "name": "ipython",
    "version": 3
   },
   "file_extension": ".py",
   "mimetype": "text/x-python",
   "name": "python",
   "nbconvert_exporter": "python",
   "pygments_lexer": "ipython3",
   "version": "3.8.9"
  }
 },
 "nbformat": 4,
 "nbformat_minor": 4
}
